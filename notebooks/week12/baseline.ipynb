{
 "cells": [
  {
   "cell_type": "markdown",
   "metadata": {},
   "source": [
    "# Environment Setting"
   ]
  },
  {
   "cell_type": "code",
   "execution_count": null,
   "metadata": {},
   "outputs": [],
   "source": [
    "!pip install pandas numpy tqdm elasticsearch"
   ]
  },
  {
   "cell_type": "code",
   "execution_count": 24,
   "metadata": {},
   "outputs": [],
   "source": [
    "# Information for Elasticsearch\n",
    "ELASTIC_USERNAME = \"elastic\"\n",
    "ELASTIC_PASSWORD = \"skkudbp\"\n",
    "ELASTIC_PATH = \"https://es01:9200\""
   ]
  },
  {
   "cell_type": "code",
   "execution_count": 26,
   "metadata": {},
   "outputs": [],
   "source": [
    "import pandas as pd\n",
    "import numpy as np\n",
    "import json\n",
    "from elasticsearch import Elasticsearch, helpers\n",
    "from tqdm import tqdm"
   ]
  },
  {
   "cell_type": "code",
   "execution_count": 28,
   "metadata": {},
   "outputs": [],
   "source": [
    "def connect_to_elastic() -> Elasticsearch:\n",
    "    client = Elasticsearch(\n",
    "        ELASTIC_PATH,\n",
    "        ca_certs=\"/home/jovyan/certs/ca/ca.crt\",\n",
    "        basic_auth=(ELASTIC_USERNAME, ELASTIC_PASSWORD),\n",
    "    )\n",
    "    return client\n",
    "client = connect_to_elastic()"
   ]
  },
  {
   "cell_type": "code",
   "execution_count": 29,
   "metadata": {},
   "outputs": [],
   "source": [
    "INDEX_NAME = \"week12_movie_review\"\n",
    "\n",
    "mapping = {\n",
    "    \"movieId\": {\n",
    "        \"type\": \"integer\"\n",
    "    },\n",
    "    \"title\": {\n",
    "        \"type\": \"text\"\n",
    "    },\n",
    "    \"genres\": {\n",
    "        \"type\": \"text\"\n",
    "    },\n",
    "    \"imdbId\": {\n",
    "        \"type\": \"integer\"\n",
    "    },\n",
    "    \"tmdbId\": {\n",
    "        \"type\": \"integer\"\n",
    "    },\n",
    "    \"userId\": {\n",
    "        \"type\": \"integer\"\n",
    "    },\n",
    "    \"rating\": {\n",
    "        \"type\": \"float\"\n",
    "    },\n",
    "    \"timestamp\": {\n",
    "        \"type\": \"date\"\n",
    "    }}"
   ]
  },
  {
   "cell_type": "code",
   "execution_count": null,
   "metadata": {},
   "outputs": [],
   "source": [
    "# Delete index if exists\n",
    "client.indices.delete(index=INDEX_NAME, ignore=[400, 404])\n",
    "if not client.indices.exists(index=INDEX_NAME):\n",
    "    client.indices.create(index=INDEX_NAME, body={'mappings': {'properties': mapping}})"
   ]
  },
  {
   "cell_type": "code",
   "execution_count": 31,
   "metadata": {},
   "outputs": [],
   "source": [
    "# Load data\n",
    "with open(\"/home/jovyan/work/week12/data/movie_data.json\", \"r\") as f:\n",
    "    movie_json = json.load(f)"
   ]
  },
  {
   "cell_type": "code",
   "execution_count": 32,
   "metadata": {},
   "outputs": [
    {
     "name": "stderr",
     "output_type": "stream",
     "text": [
      "100%|██████████| 1000/1000 [00:06<00:00, 164.53it/s]\n"
     ]
    }
   ],
   "source": [
    "# Insert data\n",
    "for id_doc, document in enumerate(tqdm(movie_json)):\n",
    "######## EDIT HERE ########\n",
    "    pass\n",
    "######## EDIT HERE ########"
   ]
  },
  {
   "cell_type": "markdown",
   "metadata": {},
   "source": [
    "### Multi match"
   ]
  },
  {
   "cell_type": "code",
   "execution_count": 34,
   "metadata": {},
   "outputs": [
    {
     "name": "stdout",
     "output_type": "stream",
     "text": [
      "movidId:  3256 / userId:  165\n",
      "movidId:  165 / userId:  46\n"
     ]
    }
   ],
   "source": [
    "query = {\n",
    "######## EDIT HERE ########\n",
    "}\n",
    "######## EDIT HERE ########\n",
    "\n",
    "response = client.search(index=INDEX_NAME, body=query)\n",
    "for hit in response['hits']['hits']:\n",
    "    print(\"movidId: \", hit['_source']['movieId'], \"/ userId: \", hit['_source']['userId'])"
   ]
  },
  {
   "cell_type": "markdown",
   "metadata": {},
   "source": [
    "### Match phrase"
   ]
  },
  {
   "cell_type": "code",
   "execution_count": 37,
   "metadata": {},
   "outputs": [
    {
     "name": "stdout",
     "output_type": "stream",
     "text": [
      "Toy Story (1995)\n",
      "Toy Story (1995)\n",
      "Toy Story (1995)\n",
      "Toy Story 2 (1999)\n"
     ]
    }
   ],
   "source": [
    "query = {\n",
    "######## EDIT HERE ########\n",
    "}\n",
    "######## EDIT HERE ########\n",
    "\n",
    "response = client.search(index=INDEX_NAME, body=query)\n",
    "for hit in response['hits']['hits']:\n",
    "    print(hit['_source']['title'])"
   ]
  },
  {
   "cell_type": "markdown",
   "metadata": {},
   "source": [
    "### Query String"
   ]
  },
  {
   "cell_type": "code",
   "execution_count": null,
   "metadata": {},
   "outputs": [],
   "source": [
    "query = {\n",
    "######## EDIT HERE ########\n",
    "}\n",
    "######## EDIT HERE ########\n",
    "\n",
    "response = client.search(index=INDEX_NAME, body=query)\n",
    "for hit in response['hits']['hits']:\n",
    "    print(hit['_source']['title'])"
   ]
  },
  {
   "cell_type": "markdown",
   "metadata": {},
   "source": [
    "### Should"
   ]
  },
  {
   "cell_type": "code",
   "execution_count": 38,
   "metadata": {},
   "outputs": [
    {
     "name": "stdout",
     "output_type": "stream",
     "text": [
      "Philadelphia Story, The (1940)\n",
      "Straight Story, The (1999)\n",
      "Everything or Nothing: The Untold Story of 007 (2012)\n"
     ]
    }
   ],
   "source": [
    "query = {\n",
    "######## EDIT HERE ########\n",
    "}\n",
    "######## EDIT HERE ########\n",
    "\n",
    "response = client.search(index=INDEX_NAME, body=query)\n",
    "for hit in response['hits']['hits']:\n",
    "    print(hit['_source']['title'])"
   ]
  },
  {
   "cell_type": "markdown",
   "metadata": {},
   "source": [
    "## Aggregations"
   ]
  },
  {
   "cell_type": "markdown",
   "metadata": {},
   "source": [
    "### Avg"
   ]
  },
  {
   "cell_type": "code",
   "execution_count": 39,
   "metadata": {},
   "outputs": [
    {
     "name": "stdout",
     "output_type": "stream",
     "text": [
      "3.4835\n"
     ]
    }
   ],
   "source": [
    "query = {\n",
    "######## EDIT HERE ########\n",
    "}\n",
    "######## EDIT HERE ########\n",
    "\n",
    "response = client.search(index=INDEX_NAME, body=query)\n",
    "print(response['aggregations']['avg_rating']['value'])"
   ]
  },
  {
   "cell_type": "markdown",
   "metadata": {},
   "source": [
    "### Max / min"
   ]
  },
  {
   "cell_type": "code",
   "execution_count": 40,
   "metadata": {},
   "outputs": [
    {
     "data": {
      "text/plain": [
       "{'value': 1537109198000.0, 'value_as_string': '2018-09-16T14:46:38.000Z'}"
      ]
     },
     "execution_count": 40,
     "metadata": {},
     "output_type": "execute_result"
    }
   ],
   "source": [
    "query = {\n",
    "######## EDIT HERE ########\n",
    "}\n",
    "######## EDIT HERE ########\n",
    "\n",
    "response = client.search(index=INDEX_NAME, body=query)\n",
    "response['aggregations']['latest_review']"
   ]
  },
  {
   "cell_type": "markdown",
   "metadata": {},
   "source": [
    "### Sum"
   ]
  },
  {
   "cell_type": "code",
   "execution_count": 42,
   "metadata": {},
   "outputs": [
    {
     "name": "stdout",
     "output_type": "stream",
     "text": [
      "Toy Story (1995) / 3.0\n",
      "Toy Story (1995) / 3.0\n",
      "Toy Story (1995) / 3.0\n",
      "Toy Story 2 (1999) / 5.0\n"
     ]
    },
    {
     "data": {
      "text/plain": [
       "14.0"
      ]
     },
     "execution_count": 42,
     "metadata": {},
     "output_type": "execute_result"
    }
   ],
   "source": [
    "query = {\n",
    "######## EDIT HERE ########\n",
    "}\n",
    "######## EDIT HERE ########\n",
    "\n",
    "response = client.search(index=INDEX_NAME, body=query)\n",
    "for hit in response['hits']['hits']:\n",
    "    print(hit['_source']['title'], \"/\", hit['_source']['rating'])\n",
    "response['aggregations']['sum_of_ratings']['value']"
   ]
  },
  {
   "cell_type": "markdown",
   "metadata": {},
   "source": [
    "## BULK"
   ]
  },
  {
   "cell_type": "code",
   "execution_count": 57,
   "metadata": {},
   "outputs": [],
   "source": [
    "# Load data for bulk\n",
    "with open(\"/home/jovyan/work/week12/data/movie_data_big.json\", \"r\") as f:\n",
    "    movie_json = json.load(f)\n",
    "\n",
    "INDEX_NAME += '_helper'"
   ]
  },
  {
   "cell_type": "code",
   "execution_count": 58,
   "metadata": {},
   "outputs": [
    {
     "name": "stderr",
     "output_type": "stream",
     "text": [
      "100%|██████████| 100789/100789 [00:00<00:00, 2099109.72it/s]\n"
     ]
    }
   ],
   "source": [
    "docs = []\n",
    "for id_doc, document in enumerate(tqdm(movie_json)):\n",
    "######## EDIT HERE ########\n",
    "    pass\n",
    "######## EDIT HERE ########\n",
    "res = helpers.bulk(client, docs)"
   ]
  },
  {
   "cell_type": "code",
   "execution_count": 59,
   "metadata": {},
   "outputs": [
    {
     "data": {
      "text/plain": [
       "ObjectApiResponse({'_index': 'week12_movie_review_helper', '_id': '0', '_version': 2, 'result': 'updated', '_shards': {'total': 2, 'successful': 2, 'failed': 0}, '_seq_no': 100789, '_primary_term': 1})"
      ]
     },
     "execution_count": 59,
     "metadata": {},
     "output_type": "execute_result"
    }
   ],
   "source": [
    "client.index(index=INDEX_NAME, body=movie_json[0], id='0')"
   ]
  },
  {
   "cell_type": "code",
   "execution_count": 61,
   "metadata": {},
   "outputs": [],
   "source": [
    "upd = docs[0]['_source']\n",
    "upd['rating'] = 3.0\n",
    "\n",
    "######## EDIT HERE ########\n",
    "delete_doc = {\n",
    "}\n",
    "\n",
    "create_doc = {\n",
    "}\n",
    "\n",
    "index_doc = {\n",
    "}\n",
    "\n",
    "update_doc = {\n",
    "}\n",
    "######## EDIT HERE ########"
   ]
  },
  {
   "cell_type": "code",
   "execution_count": 62,
   "metadata": {},
   "outputs": [],
   "source": [
    "delete_actions = []\n",
    "index_actions = []\n",
    "\n",
    "for i in range(10):\n",
    "######## EDIT HERE ########\n",
    "    pass\n",
    "######## EDIT HERE ########\n",
    "actions = delete_actions + delete_actions + index_actions"
   ]
  },
  {
   "cell_type": "code",
   "execution_count": 63,
   "metadata": {},
   "outputs": [
    {
     "name": "stdout",
     "output_type": "stream",
     "text": [
      "(20, [{'delete': {'_index': 'week12_movie_review_helper', '_id': '0', '_version': 4, 'result': 'not_found', '_shards': {'total': 2, 'successful': 2, 'failed': 0}, '_seq_no': 100800, '_primary_term': 1, 'status': 404}}, {'delete': {'_index': 'week12_movie_review_helper', '_id': '1', '_version': 3, 'result': 'not_found', '_shards': {'total': 2, 'successful': 2, 'failed': 0}, '_seq_no': 100801, '_primary_term': 1, 'status': 404}}, {'delete': {'_index': 'week12_movie_review_helper', '_id': '2', '_version': 3, 'result': 'not_found', '_shards': {'total': 2, 'successful': 2, 'failed': 0}, '_seq_no': 100802, '_primary_term': 1, 'status': 404}}, {'delete': {'_index': 'week12_movie_review_helper', '_id': '3', '_version': 3, 'result': 'not_found', '_shards': {'total': 2, 'successful': 2, 'failed': 0}, '_seq_no': 100803, '_primary_term': 1, 'status': 404}}, {'delete': {'_index': 'week12_movie_review_helper', '_id': '4', '_version': 3, 'result': 'not_found', '_shards': {'total': 2, 'successful': 2, 'failed': 0}, '_seq_no': 100804, '_primary_term': 1, 'status': 404}}, {'delete': {'_index': 'week12_movie_review_helper', '_id': '5', '_version': 3, 'result': 'not_found', '_shards': {'total': 2, 'successful': 2, 'failed': 0}, '_seq_no': 100805, '_primary_term': 1, 'status': 404}}, {'delete': {'_index': 'week12_movie_review_helper', '_id': '6', '_version': 3, 'result': 'not_found', '_shards': {'total': 2, 'successful': 2, 'failed': 0}, '_seq_no': 100806, '_primary_term': 1, 'status': 404}}, {'delete': {'_index': 'week12_movie_review_helper', '_id': '7', '_version': 3, 'result': 'not_found', '_shards': {'total': 2, 'successful': 2, 'failed': 0}, '_seq_no': 100807, '_primary_term': 1, 'status': 404}}, {'delete': {'_index': 'week12_movie_review_helper', '_id': '8', '_version': 3, 'result': 'not_found', '_shards': {'total': 2, 'successful': 2, 'failed': 0}, '_seq_no': 100808, '_primary_term': 1, 'status': 404}}, {'delete': {'_index': 'week12_movie_review_helper', '_id': '9', '_version': 3, 'result': 'not_found', '_shards': {'total': 2, 'successful': 2, 'failed': 0}, '_seq_no': 100809, '_primary_term': 1, 'status': 404}}])\n"
     ]
    }
   ],
   "source": [
    "response = helpers.bulk(client, actions, raise_on_error=False)\n",
    "print(response)"
   ]
  },
  {
   "cell_type": "markdown",
   "metadata": {},
   "source": [
    "## SCAN"
   ]
  },
  {
   "cell_type": "code",
   "execution_count": 65,
   "metadata": {},
   "outputs": [],
   "source": [
    "query = {\n",
    "######## EDIT HERE ########\n",
    "}\n",
    "######## EDIT HERE ########"
   ]
  },
  {
   "cell_type": "code",
   "execution_count": 66,
   "metadata": {},
   "outputs": [
    {
     "name": "stdout",
     "output_type": "stream",
     "text": [
      "6781\n"
     ]
    }
   ],
   "source": [
    "page_size = 10000\n",
    "scroll = helpers.scan(client, query=query, index=INDEX_NAME, scroll='1m', size=page_size)\n",
    "count = 0\n",
    "for hit in scroll:\n",
    "    count += 1\n",
    "print(count)"
   ]
  }
 ],
 "metadata": {
  "kernelspec": {
   "display_name": "Python 3 (ipykernel)",
   "language": "python",
   "name": "python3"
  },
  "language_info": {
   "codemirror_mode": {
    "name": "ipython",
    "version": 3
   },
   "file_extension": ".py",
   "mimetype": "text/x-python",
   "name": "python",
   "nbconvert_exporter": "python",
   "pygments_lexer": "ipython3",
   "version": "3.11.6"
  }
 },
 "nbformat": 4,
 "nbformat_minor": 2
}
