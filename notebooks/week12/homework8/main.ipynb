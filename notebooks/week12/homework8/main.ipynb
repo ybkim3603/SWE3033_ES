{
 "cells": [
  {
   "cell_type": "markdown",
   "metadata": {},
   "source": [
    "# 1. \\[40pts\\] Implement the various functions for common Elasticsearch operations"
   ]
  },
  {
   "cell_type": "code",
   "execution_count": null,
   "metadata": {},
   "outputs": [],
   "source": [
    "!pip install pyyaml elasticsearch elasticsearch_dsl"
   ]
  },
  {
   "cell_type": "code",
   "execution_count": null,
   "metadata": {},
   "outputs": [],
   "source": [
    "# load packages\n",
    "from src.elasticsearch_client import ElasticsearchClient\n",
    "from data.index_mapping import mapping\n",
    "import json\n",
    "\n",
    "INDEX_NAME = \"movie_reviews_homework8\""
   ]
  },
  {
   "cell_type": "code",
   "execution_count": null,
   "metadata": {},
   "outputs": [],
   "source": [
    "# Connect to Elasticsearch\n",
    "es_client = ElasticsearchClient()\n",
    "print(es_client.client.info())"
   ]
  },
  {
   "cell_type": "code",
   "execution_count": null,
   "metadata": {},
   "outputs": [],
   "source": [
    "# Delete index if exists before creating a new one\n",
    "try:\n",
    "    ###### EDIT HERE ######\n",
    "    pass\n",
    "    ###### EDIT HERE ######\n",
    "except Exception as e:\n",
    "    print(f\"Error {str(e)}\")"
   ]
  },
  {
   "cell_type": "code",
   "execution_count": null,
   "metadata": {},
   "outputs": [],
   "source": [
    "# create index based on mapping\n",
    "###### EDIT HERE ######\n",
    "\n",
    "###### EDIT HERE ######"
   ]
  },
  {
   "cell_type": "code",
   "execution_count": null,
   "metadata": {},
   "outputs": [],
   "source": [
    "# load data\n",
    "with open(\"./data/movie_data_big.json\", \"r\") as f:\n",
    "    movie_data = json.load(f)"
   ]
  },
  {
   "cell_type": "code",
   "execution_count": null,
   "metadata": {},
   "outputs": [],
   "source": [
    "# insert only one document with doc_id == 0\n",
    "doc_id = 0\n",
    "###### EDIT HERE ######\n",
    "\n",
    "###### EDIT HERE ######"
   ]
  },
  {
   "cell_type": "code",
   "execution_count": null,
   "metadata": {},
   "outputs": [],
   "source": [
    "# delete document with doc_id == 0\n",
    "doc_id = 0\n",
    "###### EDIT HERE ######\n",
    "\n",
    "###### EDIT HERE ######"
   ]
  },
  {
   "cell_type": "code",
   "execution_count": null,
   "metadata": {},
   "outputs": [],
   "source": [
    "# insert all documents using bulk indexing\n",
    "actions = []\n",
    "for id_doc, doc in enumerate(movie_data):\n",
    "###### EDIT HERE ######\n",
    "    pass\n",
    "\n",
    "\n",
    "\n",
    "\n",
    "###### EDIT HERE ######\n",
    "\n",
    "print(len(actions)) # should be 100789"
   ]
  },
  {
   "cell_type": "code",
   "execution_count": null,
   "metadata": {},
   "outputs": [],
   "source": [
    "# get document with doc_id == 85453\n",
    "doc_id = 85453\n",
    "###### EDIT HERE ######\n",
    "\n",
    "###### EDIT HERE ######\n",
    "print(f\"document with id 85453: {doc}\")"
   ]
  },
  {
   "cell_type": "code",
   "execution_count": null,
   "metadata": {},
   "outputs": [],
   "source": [
    "# get count of all documents in the index\n",
    "count = 0\n",
    "###### EDIT HERE ######\n",
    "\n",
    "###### EDIT HERE ######\n",
    "print(count) # should be 100789"
   ]
  },
  {
   "cell_type": "code",
   "execution_count": null,
   "metadata": {},
   "outputs": [],
   "source": [
    "# search for documents with title containing \"star wars\"\n",
    "query = {\n",
    "###### EDIT HERE ######\n",
    "}\n",
    "results = es_client.search(index_name=INDEX_NAME, query=query)\n",
    "###### EDIT HERE ######\n",
    "for res in results: # should be 10 documents\n",
    "    print(f\"ID: {res['_id']}, Title: {res['_source']['title']}, userID: {res['_source']['userId']}\")"
   ]
  },
  {
   "cell_type": "markdown",
   "metadata": {},
   "source": [
    "# 2. \\[10pts\\] Compare the difference in execution time between basic and helper operations and report the result and your findings."
   ]
  },
  {
   "cell_type": "code",
   "execution_count": null,
   "metadata": {},
   "outputs": [],
   "source": [
    "import time\n",
    "from tqdm import tqdm"
   ]
  },
  {
   "cell_type": "code",
   "execution_count": null,
   "metadata": {},
   "outputs": [],
   "source": [
    "def delete_and_create_index(es_client, index_name, mapping):\n",
    "    try:\n",
    "        es_client.delete_index(index_name=index_name)\n",
    "        es_client.create_index(index_name=index_name, mapping=mapping)\n",
    "    except Exception as e:\n",
    "        print(f\"Error {str(e)}\")"
   ]
  },
  {
   "cell_type": "code",
   "execution_count": null,
   "metadata": {},
   "outputs": [],
   "source": [
    "delete_and_create_index(es_client, INDEX_NAME, mapping)"
   ]
  },
  {
   "cell_type": "code",
   "execution_count": null,
   "metadata": {},
   "outputs": [],
   "source": [
    "# insert all documents not using bulk\n",
    "start = time.time()\n",
    "for id_doc, doc in tqdm(enumerate(movie_data)):\n",
    "    es_client.insert_one_document(index_name=INDEX_NAME, body=doc, doc_id=id_doc)\n",
    "end = time.time()\n",
    "print(f\"Inserting all documents without bulk took {end - start} seconds\")"
   ]
  },
  {
   "cell_type": "code",
   "execution_count": null,
   "metadata": {},
   "outputs": [],
   "source": [
    "# insert all documents using bulk\n",
    "delete_and_create_index(es_client, INDEX_NAME, mapping)\n",
    "\n",
    "start = time.time()\n",
    "actions = []\n",
    "for id_doc, doc in enumerate(movie_data):\n",
    "###### EDIT HERE ######\n",
    "    pass\n",
    "\n",
    "\n",
    "\n",
    "\n",
    "\n",
    "###### EDIT HERE ######\n",
    "\n",
    "end = time.time()\n",
    "print(f\"Inserting all documents with bulk took {end - start} seconds\")"
   ]
  },
  {
   "cell_type": "code",
   "execution_count": null,
   "metadata": {},
   "outputs": [],
   "source": [
    "from elasticsearch import helpers"
   ]
  },
  {
   "cell_type": "code",
   "execution_count": null,
   "metadata": {},
   "outputs": [],
   "source": [
    "query1 = {\n",
    "    \"query\": {\n",
    "        \"match_all\": {}\n",
    "    },\n",
    "    \"size\": 1\n",
    "}\n",
    "\n",
    "query2 = {\n",
    "    \"query\": {\n",
    "        \"bool\": {\n",
    "            \"must\": [\n",
    "                {\"match\": {\"genres\": \"Action\"}},\n",
    "                {\"match\": {\"genres\": \"Crime\"}}\n",
    "            ]\n",
    "        }\n",
    "    },\n",
    "    \"size\": 1\n",
    "}"
   ]
  },
  {
   "cell_type": "code",
   "execution_count": null,
   "metadata": {},
   "outputs": [],
   "source": [
    "page_size=[10, 1000]\n",
    "\n",
    "# retrieve all documents with scan\n",
    "for query in [query1, query2]:\n",
    "    for size in page_size:\n",
    "        scroll = es_client.scan_index(query=query, index_name=INDEX_NAME, size=size)\n",
    "\n",
    "        start = time.time()\n",
    "        count = 0\n",
    "        for hit in scroll:\n",
    "            count += 1\n",
    "        end = time.time()\n",
    "        print(f\"Retrieving all documents with {size} took {end - start} seconds\")"
   ]
  },
  {
   "cell_type": "code",
   "execution_count": null,
   "metadata": {},
   "outputs": [],
   "source": [
    "# retrieve all documents with search and scroll\n",
    "\n",
    "for query in [query1, query2]:\n",
    "    start = time.time()\n",
    "    count = 0\n",
    "    \n",
    "    response = es_client.client.search(index=INDEX_NAME, body=query)\n",
    "    scroll_response = es_client.client.search(index=INDEX_NAME, body=query, scroll='1m')\n",
    "    \n",
    "    scroll_id = scroll_response['_scroll_id']\n",
    "    for hit in scroll_response['hits']['hits']:\n",
    "        count += 1\n",
    "\n",
    "    while True:\n",
    "        scroll_response = es_client.client.scroll(scroll_id=scroll_id, scroll='1m')\n",
    "        if len(scroll_response['hits']['hits']) == 0:\n",
    "            break\n",
    "        for hit in scroll_response['hits']['hits']:\n",
    "            count += 1\n",
    "    print(count)\n",
    "\n",
    "    end = time.time()\n",
    "    print(f\"Retrieving all documents with search and scroll took {end - start} seconds\")"
   ]
  }
 ],
 "metadata": {
  "kernelspec": {
   "display_name": "Python 3 (ipykernel)",
   "language": "python",
   "name": "python3"
  },
  "language_info": {
   "codemirror_mode": {
    "name": "ipython",
    "version": 3
   },
   "file_extension": ".py",
   "mimetype": "text/x-python",
   "name": "python",
   "nbconvert_exporter": "python",
   "pygments_lexer": "ipython3",
   "version": "3.11.6"
  }
 },
 "nbformat": 4,
 "nbformat_minor": 2
}
